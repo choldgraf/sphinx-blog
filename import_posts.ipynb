{
 "cells": [
  {
   "cell_type": "markdown",
   "metadata": {},
   "source": [
    "# Import posts from the old blog into this one\n",
    "\n",
    "This should have already been run, but leaving it here in case we need to re-run again"
   ]
  },
  {
   "cell_type": "code",
   "execution_count": 1,
   "metadata": {},
   "outputs": [],
   "source": [
    "from glob import glob\n",
    "from yaml import safe_load\n",
    "import nbformat as nbf\n",
    "from pathlib import Path"
   ]
  },
  {
   "cell_type": "code",
   "execution_count": 28,
   "metadata": {},
   "outputs": [],
   "source": [
    "path_posts = Path(\"../choldgraf.github.io/content/\")\n",
    "path_new_posts = Path(\"./posts\")\n",
    "\n",
    "title = None\n",
    "for post in list(path_posts.rglob(\"**/*.md\")) + list(path_posts.rglob(\"**/*.ipynb\")):\n",
    "    if \".ipynb_checkpoints\" in str(post):\n",
    "        continue\n",
    "    path_rel_root = post.relative_to(path_posts)\n",
    "    text = post.read_text()\n",
    "    newlines = []\n",
    "    # Clean up the text metadata\n",
    "    lines = text.split('\\n')\n",
    "    for line in lines:\n",
    "        # Tags should have no square brackets\n",
    "        if line.strip().startswith(\"tags:\"):\n",
    "            line = line.replace('[', '').replace(']', '')\n",
    "            \n",
    "        # Replace explicit title with markdown header\n",
    "        if line.strip().startswith(\"title:\"):\n",
    "            title = line.strip().split(\"title:\")[-1].strip()            \n",
    "        \n",
    "        # Redirect for old links\n",
    "        line = line.replace(\"permalink:\", \"redirect:\")\n",
    "\n",
    "        # Append the new line\n",
    "        newlines.append(line)\n",
    "    \n",
    "    path_new_posts.joinpath(path_rel_root)\n",
    "    \n",
    "    # Write the new file\n",
    "    path_new_post = path_new_posts.joinpath(path_rel_root)\n",
    "    path_new_post.parent.mkdir(parents=True, exist_ok=True)\n",
    "    path_new_post.write_text(\"\\n\".join(newlines))            \n",
    "    \n",
    "    # If it's a notebook, read it in and move the metadata to notebook metadata\n",
    "    if post.suffix == \".ipynb\":\n",
    "        ntbk = nbf.reads(path_new_post.read_text(), nbf.NO_CONVERT)\n",
    "        if ntbk.cells[0]['source'].startswith(\"---\"):\n",
    "            metadata = [ii for ii in ntbk.cells.pop(0)['source'].split('\\n') if '---' not in ii]\n",
    "            metadata = safe_load('\\n'.join(metadata))\n",
    "            if metadata.get(\"date\"):\n",
    "                metadata['date'] = str(metadata.get('date'))\n",
    "            ntbk.metadata.update(metadata)\n",
    "            with path_new_post.open(\"w\") as ff:\n",
    "                nbf.write(ntbk, ff)"
   ]
  }
 ],
 "metadata": {
  "kernelspec": {
   "display_name": "Python 3",
   "language": "python",
   "name": "python3"
  },
  "language_info": {
   "codemirror_mode": {
    "name": "ipython",
    "version": 3
   },
   "file_extension": ".py",
   "mimetype": "text/x-python",
   "name": "python",
   "nbconvert_exporter": "python",
   "pygments_lexer": "ipython3",
   "version": "3.8.0"
  }
 },
 "nbformat": 4,
 "nbformat_minor": 4
}
